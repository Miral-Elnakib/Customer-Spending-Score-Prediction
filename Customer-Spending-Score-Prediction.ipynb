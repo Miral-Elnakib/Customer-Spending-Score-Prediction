{
 "cells": [
  {
   "cell_type": "code",
   "execution_count": 1,
   "id": "59b8570b",
   "metadata": {},
   "outputs": [],
   "source": [
    "import numpy as np\n",
    "import pandas as pd\n",
    "import matplotlib.pyplot as plt\n",
    "from matplotlib.lines import Line2D\n",
    "import seaborn as sns\n",
    "from sklearn import linear_model\n",
    "from sklearn.model_selection import train_test_split\n",
    "import plotly\n",
    "import plotly.express as px\n",
    "import plotly.graph_objects as go\n",
    "import warnings\n",
    "warnings.filterwarnings('ignore')\n"
   ]
  },
  {
   "cell_type": "code",
   "execution_count": 2,
   "id": "2dba01e9",
   "metadata": {},
   "outputs": [
    {
     "data": {
      "text/html": [
       "<div>\n",
       "<style scoped>\n",
       "    .dataframe tbody tr th:only-of-type {\n",
       "        vertical-align: middle;\n",
       "    }\n",
       "\n",
       "    .dataframe tbody tr th {\n",
       "        vertical-align: top;\n",
       "    }\n",
       "\n",
       "    .dataframe thead th {\n",
       "        text-align: right;\n",
       "    }\n",
       "</style>\n",
       "<table border=\"1\" class=\"dataframe\">\n",
       "  <thead>\n",
       "    <tr style=\"text-align: right;\">\n",
       "      <th></th>\n",
       "      <th>CustomerID</th>\n",
       "      <th>Gender</th>\n",
       "      <th>Age</th>\n",
       "      <th>Annual Income (k$)</th>\n",
       "      <th>Spending Score (1-100)</th>\n",
       "    </tr>\n",
       "  </thead>\n",
       "  <tbody>\n",
       "    <tr>\n",
       "      <th>0</th>\n",
       "      <td>1</td>\n",
       "      <td>Male</td>\n",
       "      <td>19</td>\n",
       "      <td>15</td>\n",
       "      <td>39</td>\n",
       "    </tr>\n",
       "    <tr>\n",
       "      <th>1</th>\n",
       "      <td>2</td>\n",
       "      <td>Male</td>\n",
       "      <td>21</td>\n",
       "      <td>15</td>\n",
       "      <td>81</td>\n",
       "    </tr>\n",
       "    <tr>\n",
       "      <th>2</th>\n",
       "      <td>3</td>\n",
       "      <td>Female</td>\n",
       "      <td>20</td>\n",
       "      <td>16</td>\n",
       "      <td>6</td>\n",
       "    </tr>\n",
       "    <tr>\n",
       "      <th>3</th>\n",
       "      <td>4</td>\n",
       "      <td>Female</td>\n",
       "      <td>23</td>\n",
       "      <td>16</td>\n",
       "      <td>77</td>\n",
       "    </tr>\n",
       "    <tr>\n",
       "      <th>4</th>\n",
       "      <td>5</td>\n",
       "      <td>Female</td>\n",
       "      <td>31</td>\n",
       "      <td>17</td>\n",
       "      <td>40</td>\n",
       "    </tr>\n",
       "    <tr>\n",
       "      <th>...</th>\n",
       "      <td>...</td>\n",
       "      <td>...</td>\n",
       "      <td>...</td>\n",
       "      <td>...</td>\n",
       "      <td>...</td>\n",
       "    </tr>\n",
       "    <tr>\n",
       "      <th>95</th>\n",
       "      <td>96</td>\n",
       "      <td>Male</td>\n",
       "      <td>24</td>\n",
       "      <td>60</td>\n",
       "      <td>52</td>\n",
       "    </tr>\n",
       "    <tr>\n",
       "      <th>96</th>\n",
       "      <td>97</td>\n",
       "      <td>Female</td>\n",
       "      <td>47</td>\n",
       "      <td>60</td>\n",
       "      <td>47</td>\n",
       "    </tr>\n",
       "    <tr>\n",
       "      <th>97</th>\n",
       "      <td>98</td>\n",
       "      <td>Female</td>\n",
       "      <td>27</td>\n",
       "      <td>60</td>\n",
       "      <td>50</td>\n",
       "    </tr>\n",
       "    <tr>\n",
       "      <th>98</th>\n",
       "      <td>99</td>\n",
       "      <td>Male</td>\n",
       "      <td>48</td>\n",
       "      <td>61</td>\n",
       "      <td>42</td>\n",
       "    </tr>\n",
       "    <tr>\n",
       "      <th>99</th>\n",
       "      <td>100</td>\n",
       "      <td>Male</td>\n",
       "      <td>20</td>\n",
       "      <td>61</td>\n",
       "      <td>49</td>\n",
       "    </tr>\n",
       "  </tbody>\n",
       "</table>\n",
       "<p>100 rows × 5 columns</p>\n",
       "</div>"
      ],
      "text/plain": [
       "    CustomerID  Gender  Age  Annual Income (k$)  Spending Score (1-100)\n",
       "0            1    Male   19                  15                      39\n",
       "1            2    Male   21                  15                      81\n",
       "2            3  Female   20                  16                       6\n",
       "3            4  Female   23                  16                      77\n",
       "4            5  Female   31                  17                      40\n",
       "..         ...     ...  ...                 ...                     ...\n",
       "95          96    Male   24                  60                      52\n",
       "96          97  Female   47                  60                      47\n",
       "97          98  Female   27                  60                      50\n",
       "98          99    Male   48                  61                      42\n",
       "99         100    Male   20                  61                      49\n",
       "\n",
       "[100 rows x 5 columns]"
      ]
     },
     "execution_count": 2,
     "metadata": {},
     "output_type": "execute_result"
    }
   ],
   "source": [
    "data = pd.read_csv('Project_Idea_5.csv')\n",
    "data.head(100)"
   ]
  },
  {
   "cell_type": "code",
   "execution_count": 3,
   "id": "62b04686",
   "metadata": {},
   "outputs": [
    {
     "data": {
      "text/plain": [
       "(200, 5)"
      ]
     },
     "execution_count": 3,
     "metadata": {},
     "output_type": "execute_result"
    }
   ],
   "source": [
    "data.shape"
   ]
  },
  {
   "cell_type": "code",
   "execution_count": 4,
   "id": "e003721c",
   "metadata": {},
   "outputs": [
    {
     "data": {
      "text/html": [
       "<div>\n",
       "<style scoped>\n",
       "    .dataframe tbody tr th:only-of-type {\n",
       "        vertical-align: middle;\n",
       "    }\n",
       "\n",
       "    .dataframe tbody tr th {\n",
       "        vertical-align: top;\n",
       "    }\n",
       "\n",
       "    .dataframe thead th {\n",
       "        text-align: right;\n",
       "    }\n",
       "</style>\n",
       "<table border=\"1\" class=\"dataframe\">\n",
       "  <thead>\n",
       "    <tr style=\"text-align: right;\">\n",
       "      <th></th>\n",
       "      <th>CustomerID</th>\n",
       "      <th>Age</th>\n",
       "      <th>Annual Income (k$)</th>\n",
       "      <th>Spending Score (1-100)</th>\n",
       "    </tr>\n",
       "  </thead>\n",
       "  <tbody>\n",
       "    <tr>\n",
       "      <th>count</th>\n",
       "      <td>200.000000</td>\n",
       "      <td>200.000000</td>\n",
       "      <td>200.000000</td>\n",
       "      <td>200.000000</td>\n",
       "    </tr>\n",
       "    <tr>\n",
       "      <th>mean</th>\n",
       "      <td>100.500000</td>\n",
       "      <td>38.850000</td>\n",
       "      <td>60.560000</td>\n",
       "      <td>50.200000</td>\n",
       "    </tr>\n",
       "    <tr>\n",
       "      <th>std</th>\n",
       "      <td>57.879185</td>\n",
       "      <td>13.969007</td>\n",
       "      <td>26.264721</td>\n",
       "      <td>25.823522</td>\n",
       "    </tr>\n",
       "    <tr>\n",
       "      <th>min</th>\n",
       "      <td>1.000000</td>\n",
       "      <td>18.000000</td>\n",
       "      <td>15.000000</td>\n",
       "      <td>1.000000</td>\n",
       "    </tr>\n",
       "    <tr>\n",
       "      <th>25%</th>\n",
       "      <td>50.750000</td>\n",
       "      <td>28.750000</td>\n",
       "      <td>41.500000</td>\n",
       "      <td>34.750000</td>\n",
       "    </tr>\n",
       "    <tr>\n",
       "      <th>50%</th>\n",
       "      <td>100.500000</td>\n",
       "      <td>36.000000</td>\n",
       "      <td>61.500000</td>\n",
       "      <td>50.000000</td>\n",
       "    </tr>\n",
       "    <tr>\n",
       "      <th>75%</th>\n",
       "      <td>150.250000</td>\n",
       "      <td>49.000000</td>\n",
       "      <td>78.000000</td>\n",
       "      <td>73.000000</td>\n",
       "    </tr>\n",
       "    <tr>\n",
       "      <th>max</th>\n",
       "      <td>200.000000</td>\n",
       "      <td>70.000000</td>\n",
       "      <td>137.000000</td>\n",
       "      <td>99.000000</td>\n",
       "    </tr>\n",
       "  </tbody>\n",
       "</table>\n",
       "</div>"
      ],
      "text/plain": [
       "       CustomerID         Age  Annual Income (k$)  Spending Score (1-100)\n",
       "count  200.000000  200.000000          200.000000              200.000000\n",
       "mean   100.500000   38.850000           60.560000               50.200000\n",
       "std     57.879185   13.969007           26.264721               25.823522\n",
       "min      1.000000   18.000000           15.000000                1.000000\n",
       "25%     50.750000   28.750000           41.500000               34.750000\n",
       "50%    100.500000   36.000000           61.500000               50.000000\n",
       "75%    150.250000   49.000000           78.000000               73.000000\n",
       "max    200.000000   70.000000          137.000000               99.000000"
      ]
     },
     "execution_count": 4,
     "metadata": {},
     "output_type": "execute_result"
    }
   ],
   "source": [
    "data.describe()"
   ]
  },
  {
   "cell_type": "code",
   "execution_count": 5,
   "id": "22588c15",
   "metadata": {},
   "outputs": [],
   "source": [
    "data.drop(labels = 'CustomerID' , axis = 1 , inplace = True)"
   ]
  },
  {
   "cell_type": "code",
   "execution_count": 6,
   "id": "c6211c3c",
   "metadata": {},
   "outputs": [
    {
     "data": {
      "text/plain": [
       "Gender                    object\n",
       "Age                        int64\n",
       "Annual Income (k$)         int64\n",
       "Spending Score (1-100)     int64\n",
       "dtype: object"
      ]
     },
     "execution_count": 6,
     "metadata": {},
     "output_type": "execute_result"
    }
   ],
   "source": [
    "data.dtypes"
   ]
  },
  {
   "cell_type": "code",
   "execution_count": 7,
   "id": "2e7f5db1",
   "metadata": {},
   "outputs": [],
   "source": [
    "data['Gender'].replace({'Male':1 , 'Female':0} , inplace = True)"
   ]
  },
  {
   "cell_type": "markdown",
   "id": "82aff912",
   "metadata": {},
   "source": [
    "# Exploratory Data Analysis"
   ]
  },
  {
   "cell_type": "code",
   "execution_count": 8,
   "id": "177b2ce7",
   "metadata": {},
   "outputs": [
    {
     "data": {
      "image/png": "[encoded data removed]",
      "text/plain": [
       "<Figure size 432x288 with 2 Axes>"
      ]
     },
     "metadata": {
      "needs_background": "light"
     },
     "output_type": "display_data"
    }
   ],
   "source": [
    "cor = data.corr().round(2)\n",
    "sns.heatmap(data=cor,annot=True)\n",
    "plt.show()"
   ]
  },
  {
   "cell_type": "code",
   "execution_count": 9,
   "id": "c8f1d4b6",
   "metadata": {},
   "outputs": [
    {
     "data": {
      "text/plain": [
       "<AxesSubplot:xlabel='Annual Income (k$)', ylabel='Density'>"
      ]
     },
     "execution_count": 9,
     "metadata": {},
     "output_type": "execute_result"
    },
    {
     "data": {
      "image/png": "[encoded data removed]",
      "text/plain": [
       "<Figure size 1512x432 with 2 Axes>"
      ]
     },
     "metadata": {
      "needs_background": "light"
     },
     "output_type": "display_data"
    }
   ],
   "source": [
    "ig, axes = plt.subplots(1,2, figsize=(21,6))\n",
    "sns.distplot(data['Age'], ax=axes[0])\n",
    "sns.distplot(data['Annual Income (k$)'], ax=axes[1])"
   ]
  },
  {
   "cell_type": "code",
   "execution_count": 10,
   "id": "3f7f5e2f",
   "metadata": {},
   "outputs": [
    {
     "data": {
      "text/plain": [
       "<AxesSubplot:xlabel='Gender', ylabel='count'>"
      ]
     },
     "execution_count": 10,
     "metadata": {},
     "output_type": "execute_result"
    },
    {
     "data": {
      "image/png": "[encoded data removed]",
      "text/plain": [
       "<Figure size 432x288 with 1 Axes>"
      ]
     },
     "metadata": {
      "needs_background": "light"
     },
     "output_type": "display_data"
    }
   ],
   "source": [
    "sns.countplot(x='Gender', data=data, palette='viridis')"
   ]
  },
  {
   "cell_type": "code",
   "execution_count": 11,
   "id": "34d86ca8",
   "metadata": {},
   "outputs": [
    {
     "data": {
      "text/plain": [
       "<AxesSubplot:xlabel='Gender', ylabel='Spending Score (1-100)'>"
      ]
     },
     "execution_count": 11,
     "metadata": {},
     "output_type": "execute_result"
    },
    {
     "data": {
      "image/png": "[encoded data removed]",
      "text/plain": [
       "<Figure size 432x288 with 1 Axes>"
      ]
     },
     "metadata": {
      "needs_background": "light"
     },
     "output_type": "display_data"
    }
   ],
   "source": [
    "sns.stripplot(x='Gender', y = 'Spending Score (1-100)', data = data)"
   ]
  },
  {
   "cell_type": "code",
   "execution_count": 12,
   "id": "8a045767",
   "metadata": {},
   "outputs": [
    {
     "data": {
      "text/plain": [
       "<seaborn.axisgrid.PairGrid at 0x208e71b1f70>"
      ]
     },
     "execution_count": 12,
     "metadata": {},
     "output_type": "execute_result"
    },
    {
     "data": {
      "image/png": "[encoded data removed]",
      "text/plain": [
       "<Figure size 540x540 with 12 Axes>"
      ]
     },
     "metadata": {
      "needs_background": "light"
     },
     "output_type": "display_data"
    }
   ],
   "source": [
    "# Comparing pairwise correlations between variables\n",
    "sns.pairplot(data[['Age', 'Annual Income (k$)','Spending Score (1-100)']])"
   ]
  },
  {
   "cell_type": "code",
   "execution_count": 13,
   "id": "d3a954d9",
   "metadata": {},
   "outputs": [
    {
     "data": {
      "text/plain": [
       "<Figure size 10x10 with 0 Axes>"
      ]
     },
     "execution_count": 13,
     "metadata": {},
     "output_type": "execute_result"
    },
    {
     "data": {
      "image/png": "[encoded data removed]",
      "text/plain": [
       "<Figure size 432x288 with 1 Axes>"
      ]
     },
     "metadata": {
      "needs_background": "light"
     },
     "output_type": "display_data"
    },
    {
     "data": {
      "text/plain": [
       "<Figure size 10x10 with 0 Axes>"
      ]
     },
     "metadata": {},
     "output_type": "display_data"
    }
   ],
   "source": [
    "sns.boxplot( x= 'Gender', y = 'Annual Income (k$)', data = data )\n",
    "plt.figure(figsize=(10,10), dpi=1)"
   ]
  },
  {
   "cell_type": "code",
   "execution_count": 14,
   "id": "bddb5e8e",
   "metadata": {},
   "outputs": [
    {
     "data": {
      "image/png": "[encoded data removed]",
      "text/plain": [
       "<Figure size 432x288 with 1 Axes>"
      ]
     },
     "metadata": {
      "needs_background": "light"
     },
     "output_type": "display_data"
    }
   ],
   "source": [
    "x = data['Annual Income (k$)']\n",
    "y = data['Age']\n",
    "z = data['Spending Score (1-100)']\n",
    "\n",
    "sns.lineplot(x, y, color = 'blue')\n",
    "sns.lineplot(x, z, color = 'pink')\n",
    "plt.title('Annual Income vs Age and Spending Score', fontsize = 20)\n",
    "plt.show()"
   ]
  },
  {
   "cell_type": "code",
   "execution_count": 15,
   "id": "6349c728",
   "metadata": {},
   "outputs": [
    {
     "data": {
      "text/plain": [
       "<AxesSubplot:xlabel='Age', ylabel='Spending Score (1-100)'>"
      ]
     },
     "execution_count": 15,
     "metadata": {},
     "output_type": "execute_result"
    },
    {
     "data": {
      "image/png": "[encoded data removed]",
      "text/plain": [
       "<Figure size 432x288 with 1 Axes>"
      ]
     },
     "metadata": {
      "needs_background": "light"
     },
     "output_type": "display_data"
    }
   ],
   "source": [
    "sns.scatterplot(data=data, x=\"Age\", y=\"Spending Score (1-100)\")"
   ]
  },
  {
   "cell_type": "code",
   "execution_count": 16,
   "id": "c07ee9a4",
   "metadata": {},
   "outputs": [
    {
     "name": "stdout",
     "output_type": "stream",
     "text": [
      "    Gender  Age  Annual Income (k$)  Spending Score (1-100)      Age Groups\n",
      "0        1   19                  15                      39  (17.999, 31.0]\n",
      "1        1   21                  15                      81  (17.999, 31.0]\n",
      "2        0   20                  16                       6  (17.999, 31.0]\n",
      "3        0   23                  16                      77  (17.999, 31.0]\n",
      "4        0   31                  17                      40  (17.999, 31.0]\n",
      "5        0   22                  17                      76  (17.999, 31.0]\n",
      "6        0   35                  18                       6    (31.0, 45.0]\n",
      "7        0   23                  18                      94  (17.999, 31.0]\n",
      "8        1   64                  19                       3    (45.0, 70.0]\n",
      "9        0   30                  19                      72  (17.999, 31.0]\n",
      "10       1   67                  19                      14    (45.0, 70.0]\n",
      "11       0   35                  19                      99    (31.0, 45.0]\n",
      "12       0   58                  20                      15    (45.0, 70.0]\n",
      "13       0   24                  20                      77  (17.999, 31.0]\n",
      "14       1   37                  20                      13    (31.0, 45.0]\n",
      "15       1   22                  20                      79  (17.999, 31.0]\n",
      "16       0   35                  21                      35    (31.0, 45.0]\n",
      "17       1   20                  21                      66  (17.999, 31.0]\n",
      "18       1   52                  23                      29    (45.0, 70.0]\n",
      "19       0   35                  23                      98    (31.0, 45.0]\n"
     ]
    }
   ],
   "source": [
    "data['Age Groups'] = pd.qcut(data['Age'], 3)\n",
    "print(data.head(20))"
   ]
  },
  {
   "cell_type": "code",
   "execution_count": 17,
   "id": "990077dc",
   "metadata": {},
   "outputs": [],
   "source": [
    "data['Age Groups'] = pd.factorize(data['Age Groups'])[0]"
   ]
  },
  {
   "cell_type": "markdown",
   "id": "7c12b904",
   "metadata": {},
   "source": [
    "# Liner Regression Model"
   ]
  },
  {
   "cell_type": "code",
   "execution_count": 18,
   "id": "880503b7",
   "metadata": {},
   "outputs": [],
   "source": [
    "X=data.drop(['Spending Score (1-100)','Annual Income (k$)','Gender'], axis=1)\n",
    "y=data['Spending Score (1-100)']"
   ]
  },
  {
   "cell_type": "code",
   "execution_count": 19,
   "id": "8d7eb5d7",
   "metadata": {},
   "outputs": [],
   "source": [
    "from sklearn.model_selection import train_test_split\n",
    "X_train, X_test, y_train, y_test = train_test_split(X, y, test_size=0.2, random_state=0)"
   ]
  },
  {
   "cell_type": "code",
   "execution_count": 20,
   "id": "5a0adaf7",
   "metadata": {},
   "outputs": [
    {
     "data": {
      "text/plain": [
       "LinearRegression()"
      ]
     },
     "execution_count": 20,
     "metadata": {},
     "output_type": "execute_result"
    }
   ],
   "source": [
    "from sklearn.linear_model import LinearRegression\n",
    "regressor = LinearRegression()\n",
    "regressor.fit(X_train, y_train)"
   ]
  },
  {
   "cell_type": "code",
   "execution_count": 21,
   "id": "ac82a1dc",
   "metadata": {},
   "outputs": [
    {
     "name": "stdout",
     "output_type": "stream",
     "text": [
      "58.13936261616125\n"
     ]
    }
   ],
   "source": [
    "print(regressor.intercept_)"
   ]
  },
  {
   "cell_type": "code",
   "execution_count": 22,
   "id": "5ade5417",
   "metadata": {},
   "outputs": [
    {
     "name": "stdout",
     "output_type": "stream",
     "text": [
      "[ 0.02862777 -9.96931736]\n"
     ]
    }
   ],
   "source": [
    "print(regressor.coef_)"
   ]
  },
  {
   "cell_type": "code",
   "execution_count": 23,
   "id": "e7439a9e",
   "metadata": {},
   "outputs": [],
   "source": [
    "y_pred = regressor.predict(X_test)"
   ]
  },
  {
   "cell_type": "code",
   "execution_count": 24,
   "id": "299e3bd2",
   "metadata": {},
   "outputs": [
    {
     "data": {
      "text/html": [
       "<div>\n",
       "<style scoped>\n",
       "    .dataframe tbody tr th:only-of-type {\n",
       "        vertical-align: middle;\n",
       "    }\n",
       "\n",
       "    .dataframe tbody tr th {\n",
       "        vertical-align: top;\n",
       "    }\n",
       "\n",
       "    .dataframe thead th {\n",
       "        text-align: right;\n",
       "    }\n",
       "</style>\n",
       "<table border=\"1\" class=\"dataframe\">\n",
       "  <thead>\n",
       "    <tr style=\"text-align: right;\">\n",
       "      <th></th>\n",
       "      <th>Actual</th>\n",
       "      <th>Predicted</th>\n",
       "    </tr>\n",
       "  </thead>\n",
       "  <tbody>\n",
       "    <tr>\n",
       "      <th>18</th>\n",
       "      <td>29</td>\n",
       "      <td>39.689372</td>\n",
       "    </tr>\n",
       "    <tr>\n",
       "      <th>170</th>\n",
       "      <td>13</td>\n",
       "      <td>49.315156</td>\n",
       "    </tr>\n",
       "    <tr>\n",
       "      <th>107</th>\n",
       "      <td>46</td>\n",
       "      <td>39.746627</td>\n",
       "    </tr>\n",
       "    <tr>\n",
       "      <th>98</th>\n",
       "      <td>42</td>\n",
       "      <td>39.574861</td>\n",
       "    </tr>\n",
       "    <tr>\n",
       "      <th>177</th>\n",
       "      <td>69</td>\n",
       "      <td>58.912312</td>\n",
       "    </tr>\n",
       "    <tr>\n",
       "      <th>182</th>\n",
       "      <td>15</td>\n",
       "      <td>39.517605</td>\n",
       "    </tr>\n",
       "    <tr>\n",
       "      <th>5</th>\n",
       "      <td>76</td>\n",
       "      <td>58.769173</td>\n",
       "    </tr>\n",
       "    <tr>\n",
       "      <th>146</th>\n",
       "      <td>36</td>\n",
       "      <td>39.574861</td>\n",
       "    </tr>\n",
       "    <tr>\n",
       "      <th>12</th>\n",
       "      <td>15</td>\n",
       "      <td>39.861138</td>\n",
       "    </tr>\n",
       "    <tr>\n",
       "      <th>152</th>\n",
       "      <td>20</td>\n",
       "      <td>49.429667</td>\n",
       "    </tr>\n",
       "    <tr>\n",
       "      <th>61</th>\n",
       "      <td>55</td>\n",
       "      <td>58.683290</td>\n",
       "    </tr>\n",
       "    <tr>\n",
       "      <th>125</th>\n",
       "      <td>77</td>\n",
       "      <td>59.026823</td>\n",
       "    </tr>\n",
       "    <tr>\n",
       "      <th>180</th>\n",
       "      <td>32</td>\n",
       "      <td>49.229273</td>\n",
       "    </tr>\n",
       "    <tr>\n",
       "      <th>154</th>\n",
       "      <td>16</td>\n",
       "      <td>39.546233</td>\n",
       "    </tr>\n",
       "    <tr>\n",
       "      <th>80</th>\n",
       "      <td>51</td>\n",
       "      <td>39.832511</td>\n",
       "    </tr>\n",
       "    <tr>\n",
       "      <th>7</th>\n",
       "      <td>94</td>\n",
       "      <td>58.797801</td>\n",
       "    </tr>\n",
       "    <tr>\n",
       "      <th>33</th>\n",
       "      <td>92</td>\n",
       "      <td>58.654662</td>\n",
       "    </tr>\n",
       "    <tr>\n",
       "      <th>130</th>\n",
       "      <td>9</td>\n",
       "      <td>39.546233</td>\n",
       "    </tr>\n",
       "    <tr>\n",
       "      <th>37</th>\n",
       "      <td>73</td>\n",
       "      <td>58.998196</td>\n",
       "    </tr>\n",
       "    <tr>\n",
       "      <th>74</th>\n",
       "      <td>47</td>\n",
       "      <td>39.889766</td>\n",
       "    </tr>\n",
       "    <tr>\n",
       "      <th>183</th>\n",
       "      <td>88</td>\n",
       "      <td>58.969568</td>\n",
       "    </tr>\n",
       "    <tr>\n",
       "      <th>145</th>\n",
       "      <td>97</td>\n",
       "      <td>58.940940</td>\n",
       "    </tr>\n",
       "    <tr>\n",
       "      <th>45</th>\n",
       "      <td>65</td>\n",
       "      <td>58.826429</td>\n",
       "    </tr>\n",
       "    <tr>\n",
       "      <th>159</th>\n",
       "      <td>73</td>\n",
       "      <td>58.998196</td>\n",
       "    </tr>\n",
       "    <tr>\n",
       "      <th>60</th>\n",
       "      <td>56</td>\n",
       "      <td>40.204672</td>\n",
       "    </tr>\n",
       "    <tr>\n",
       "      <th>123</th>\n",
       "      <td>91</td>\n",
       "      <td>49.286528</td>\n",
       "    </tr>\n",
       "    <tr>\n",
       "      <th>179</th>\n",
       "      <td>90</td>\n",
       "      <td>49.172017</td>\n",
       "    </tr>\n",
       "    <tr>\n",
       "      <th>185</th>\n",
       "      <td>97</td>\n",
       "      <td>58.998196</td>\n",
       "    </tr>\n",
       "    <tr>\n",
       "      <th>122</th>\n",
       "      <td>58</td>\n",
       "      <td>49.315156</td>\n",
       "    </tr>\n",
       "    <tr>\n",
       "      <th>44</th>\n",
       "      <td>28</td>\n",
       "      <td>39.603488</td>\n",
       "    </tr>\n",
       "    <tr>\n",
       "      <th>16</th>\n",
       "      <td>35</td>\n",
       "      <td>49.172017</td>\n",
       "    </tr>\n",
       "    <tr>\n",
       "      <th>55</th>\n",
       "      <td>41</td>\n",
       "      <td>39.546233</td>\n",
       "    </tr>\n",
       "    <tr>\n",
       "      <th>150</th>\n",
       "      <td>17</td>\n",
       "      <td>49.401039</td>\n",
       "    </tr>\n",
       "    <tr>\n",
       "      <th>111</th>\n",
       "      <td>54</td>\n",
       "      <td>58.683290</td>\n",
       "    </tr>\n",
       "    <tr>\n",
       "      <th>22</th>\n",
       "      <td>5</td>\n",
       "      <td>39.517605</td>\n",
       "    </tr>\n",
       "    <tr>\n",
       "      <th>189</th>\n",
       "      <td>85</td>\n",
       "      <td>49.200645</td>\n",
       "    </tr>\n",
       "    <tr>\n",
       "      <th>129</th>\n",
       "      <td>75</td>\n",
       "      <td>49.257900</td>\n",
       "    </tr>\n",
       "    <tr>\n",
       "      <th>4</th>\n",
       "      <td>40</td>\n",
       "      <td>59.026823</td>\n",
       "    </tr>\n",
       "    <tr>\n",
       "      <th>83</th>\n",
       "      <td>44</td>\n",
       "      <td>39.517605</td>\n",
       "    </tr>\n",
       "    <tr>\n",
       "      <th>106</th>\n",
       "      <td>50</td>\n",
       "      <td>40.090161</td>\n",
       "    </tr>\n",
       "  </tbody>\n",
       "</table>\n",
       "</div>"
      ],
      "text/plain": [
       "     Actual  Predicted\n",
       "18       29  39.689372\n",
       "170      13  49.315156\n",
       "107      46  39.746627\n",
       "98       42  39.574861\n",
       "177      69  58.912312\n",
       "182      15  39.517605\n",
       "5        76  58.769173\n",
       "146      36  39.574861\n",
       "12       15  39.861138\n",
       "152      20  49.429667\n",
       "61       55  58.683290\n",
       "125      77  59.026823\n",
       "180      32  49.229273\n",
       "154      16  39.546233\n",
       "80       51  39.832511\n",
       "7        94  58.797801\n",
       "33       92  58.654662\n",
       "130       9  39.546233\n",
       "37       73  58.998196\n",
       "74       47  39.889766\n",
       "183      88  58.969568\n",
       "145      97  58.940940\n",
       "45       65  58.826429\n",
       "159      73  58.998196\n",
       "60       56  40.204672\n",
       "123      91  49.286528\n",
       "179      90  49.172017\n",
       "185      97  58.998196\n",
       "122      58  49.315156\n",
       "44       28  39.603488\n",
       "16       35  49.172017\n",
       "55       41  39.546233\n",
       "150      17  49.401039\n",
       "111      54  58.683290\n",
       "22        5  39.517605\n",
       "189      85  49.200645\n",
       "129      75  49.257900\n",
       "4        40  59.026823\n",
       "83       44  39.517605\n",
       "106      50  40.090161"
      ]
     },
     "execution_count": 24,
     "metadata": {},
     "output_type": "execute_result"
    }
   ],
   "source": [
    "df = pd.DataFrame({'Actual': y_test, 'Predicted': y_pred})\n",
    "df"
   ]
  },
  {
   "cell_type": "code",
   "execution_count": 25,
   "id": "93cce6fa",
   "metadata": {},
   "outputs": [
    {
     "name": "stdout",
     "output_type": "stream",
     "text": [
      "Mean Absolute Error: 19.631752826541383\n",
      "Mean Squared Error: 538.62390182984\n",
      "Root Mean Squared Error: 23.208272271538007\n"
     ]
    }
   ],
   "source": [
    "from sklearn import metrics\n",
    "print('Mean Absolute Error:', metrics.mean_absolute_error(y_test, y_pred))\n",
    "print('Mean Squared Error:', metrics.mean_squared_error(y_test, y_pred))\n",
    "print('Root Mean Squared Error:', np.sqrt(metrics.mean_squared_error(y_test, y_pred)))"
   ]
  },
  {
   "cell_type": "markdown",
   "id": "245e2985",
   "metadata": {},
   "source": [
    "# Desion Tree Model"
   ]
  },
  {
   "cell_type": "code",
   "execution_count": 26,
   "id": "a327a117",
   "metadata": {},
   "outputs": [],
   "source": [
    "X = data.drop('Spending Score (1-100)', axis=1)\n",
    "y = data['Spending Score (1-100)']"
   ]
  },
  {
   "cell_type": "code",
   "execution_count": 27,
   "id": "f6356310",
   "metadata": {},
   "outputs": [],
   "source": [
    "from sklearn.model_selection import train_test_split\n",
    "X_train, X_test, y_train, y_test = train_test_split(X, y, test_size=0.2, random_state=0)"
   ]
  },
  {
   "cell_type": "code",
   "execution_count": 28,
   "id": "a85769a5",
   "metadata": {},
   "outputs": [
    {
     "data": {
      "text/plain": [
       "DecisionTreeRegressor()"
      ]
     },
     "execution_count": 28,
     "metadata": {},
     "output_type": "execute_result"
    }
   ],
   "source": [
    "from sklearn.tree import DecisionTreeRegressor\n",
    "regressor = DecisionTreeRegressor()\n",
    "regressor.fit(X_train, y_train)"
   ]
  },
  {
   "cell_type": "code",
   "execution_count": 29,
   "id": "0f3a58fd",
   "metadata": {},
   "outputs": [],
   "source": [
    "y_pred = regressor.predict(X_test)"
   ]
  },
  {
   "cell_type": "code",
   "execution_count": 30,
   "id": "310dfb65",
   "metadata": {},
   "outputs": [
    {
     "data": {
      "text/html": [
       "<div>\n",
       "<style scoped>\n",
       "    .dataframe tbody tr th:only-of-type {\n",
       "        vertical-align: middle;\n",
       "    }\n",
       "\n",
       "    .dataframe tbody tr th {\n",
       "        vertical-align: top;\n",
       "    }\n",
       "\n",
       "    .dataframe thead th {\n",
       "        text-align: right;\n",
       "    }\n",
       "</style>\n",
       "<table border=\"1\" class=\"dataframe\">\n",
       "  <thead>\n",
       "    <tr style=\"text-align: right;\">\n",
       "      <th></th>\n",
       "      <th>Actual</th>\n",
       "      <th>Predicted</th>\n",
       "    </tr>\n",
       "  </thead>\n",
       "  <tbody>\n",
       "    <tr>\n",
       "      <th>18</th>\n",
       "      <td>29</td>\n",
       "      <td>4.0</td>\n",
       "    </tr>\n",
       "    <tr>\n",
       "      <th>170</th>\n",
       "      <td>13</td>\n",
       "      <td>95.0</td>\n",
       "    </tr>\n",
       "    <tr>\n",
       "      <th>107</th>\n",
       "      <td>46</td>\n",
       "      <td>60.0</td>\n",
       "    </tr>\n",
       "    <tr>\n",
       "      <th>98</th>\n",
       "      <td>42</td>\n",
       "      <td>49.0</td>\n",
       "    </tr>\n",
       "    <tr>\n",
       "      <th>177</th>\n",
       "      <td>69</td>\n",
       "      <td>75.0</td>\n",
       "    </tr>\n",
       "    <tr>\n",
       "      <th>182</th>\n",
       "      <td>15</td>\n",
       "      <td>13.0</td>\n",
       "    </tr>\n",
       "    <tr>\n",
       "      <th>5</th>\n",
       "      <td>76</td>\n",
       "      <td>79.0</td>\n",
       "    </tr>\n",
       "    <tr>\n",
       "      <th>146</th>\n",
       "      <td>36</td>\n",
       "      <td>35.0</td>\n",
       "    </tr>\n",
       "    <tr>\n",
       "      <th>12</th>\n",
       "      <td>15</td>\n",
       "      <td>14.0</td>\n",
       "    </tr>\n",
       "    <tr>\n",
       "      <th>152</th>\n",
       "      <td>20</td>\n",
       "      <td>35.0</td>\n",
       "    </tr>\n",
       "    <tr>\n",
       "      <th>61</th>\n",
       "      <td>55</td>\n",
       "      <td>59.0</td>\n",
       "    </tr>\n",
       "    <tr>\n",
       "      <th>125</th>\n",
       "      <td>77</td>\n",
       "      <td>71.0</td>\n",
       "    </tr>\n",
       "    <tr>\n",
       "      <th>180</th>\n",
       "      <td>32</td>\n",
       "      <td>1.0</td>\n",
       "    </tr>\n",
       "    <tr>\n",
       "      <th>154</th>\n",
       "      <td>16</td>\n",
       "      <td>35.0</td>\n",
       "    </tr>\n",
       "    <tr>\n",
       "      <th>80</th>\n",
       "      <td>51</td>\n",
       "      <td>60.0</td>\n",
       "    </tr>\n",
       "    <tr>\n",
       "      <th>7</th>\n",
       "      <td>94</td>\n",
       "      <td>77.0</td>\n",
       "    </tr>\n",
       "    <tr>\n",
       "      <th>33</th>\n",
       "      <td>92</td>\n",
       "      <td>66.0</td>\n",
       "    </tr>\n",
       "    <tr>\n",
       "      <th>130</th>\n",
       "      <td>9</td>\n",
       "      <td>35.0</td>\n",
       "    </tr>\n",
       "    <tr>\n",
       "      <th>37</th>\n",
       "      <td>73</td>\n",
       "      <td>72.0</td>\n",
       "    </tr>\n",
       "    <tr>\n",
       "      <th>74</th>\n",
       "      <td>47</td>\n",
       "      <td>60.0</td>\n",
       "    </tr>\n",
       "    <tr>\n",
       "      <th>183</th>\n",
       "      <td>88</td>\n",
       "      <td>83.0</td>\n",
       "    </tr>\n",
       "    <tr>\n",
       "      <th>145</th>\n",
       "      <td>97</td>\n",
       "      <td>40.0</td>\n",
       "    </tr>\n",
       "    <tr>\n",
       "      <th>45</th>\n",
       "      <td>65</td>\n",
       "      <td>52.0</td>\n",
       "    </tr>\n",
       "    <tr>\n",
       "      <th>159</th>\n",
       "      <td>73</td>\n",
       "      <td>78.0</td>\n",
       "    </tr>\n",
       "    <tr>\n",
       "      <th>60</th>\n",
       "      <td>56</td>\n",
       "      <td>55.0</td>\n",
       "    </tr>\n",
       "    <tr>\n",
       "      <th>123</th>\n",
       "      <td>91</td>\n",
       "      <td>55.0</td>\n",
       "    </tr>\n",
       "    <tr>\n",
       "      <th>179</th>\n",
       "      <td>90</td>\n",
       "      <td>51.0</td>\n",
       "    </tr>\n",
       "    <tr>\n",
       "      <th>185</th>\n",
       "      <td>97</td>\n",
       "      <td>86.0</td>\n",
       "    </tr>\n",
       "    <tr>\n",
       "      <th>122</th>\n",
       "      <td>58</td>\n",
       "      <td>40.0</td>\n",
       "    </tr>\n",
       "    <tr>\n",
       "      <th>44</th>\n",
       "      <td>28</td>\n",
       "      <td>36.0</td>\n",
       "    </tr>\n",
       "    <tr>\n",
       "      <th>16</th>\n",
       "      <td>35</td>\n",
       "      <td>13.0</td>\n",
       "    </tr>\n",
       "    <tr>\n",
       "      <th>55</th>\n",
       "      <td>41</td>\n",
       "      <td>42.0</td>\n",
       "    </tr>\n",
       "    <tr>\n",
       "      <th>150</th>\n",
       "      <td>17</td>\n",
       "      <td>35.0</td>\n",
       "    </tr>\n",
       "    <tr>\n",
       "      <th>111</th>\n",
       "      <td>54</td>\n",
       "      <td>46.0</td>\n",
       "    </tr>\n",
       "    <tr>\n",
       "      <th>22</th>\n",
       "      <td>5</td>\n",
       "      <td>14.0</td>\n",
       "    </tr>\n",
       "    <tr>\n",
       "      <th>189</th>\n",
       "      <td>85</td>\n",
       "      <td>23.0</td>\n",
       "    </tr>\n",
       "    <tr>\n",
       "      <th>129</th>\n",
       "      <td>75</td>\n",
       "      <td>75.0</td>\n",
       "    </tr>\n",
       "    <tr>\n",
       "      <th>4</th>\n",
       "      <td>40</td>\n",
       "      <td>73.0</td>\n",
       "    </tr>\n",
       "    <tr>\n",
       "      <th>83</th>\n",
       "      <td>44</td>\n",
       "      <td>53.0</td>\n",
       "    </tr>\n",
       "    <tr>\n",
       "      <th>106</th>\n",
       "      <td>50</td>\n",
       "      <td>48.0</td>\n",
       "    </tr>\n",
       "  </tbody>\n",
       "</table>\n",
       "</div>"
      ],
      "text/plain": [
       "     Actual  Predicted\n",
       "18       29        4.0\n",
       "170      13       95.0\n",
       "107      46       60.0\n",
       "98       42       49.0\n",
       "177      69       75.0\n",
       "182      15       13.0\n",
       "5        76       79.0\n",
       "146      36       35.0\n",
       "12       15       14.0\n",
       "152      20       35.0\n",
       "61       55       59.0\n",
       "125      77       71.0\n",
       "180      32        1.0\n",
       "154      16       35.0\n",
       "80       51       60.0\n",
       "7        94       77.0\n",
       "33       92       66.0\n",
       "130       9       35.0\n",
       "37       73       72.0\n",
       "74       47       60.0\n",
       "183      88       83.0\n",
       "145      97       40.0\n",
       "45       65       52.0\n",
       "159      73       78.0\n",
       "60       56       55.0\n",
       "123      91       55.0\n",
       "179      90       51.0\n",
       "185      97       86.0\n",
       "122      58       40.0\n",
       "44       28       36.0\n",
       "16       35       13.0\n",
       "55       41       42.0\n",
       "150      17       35.0\n",
       "111      54       46.0\n",
       "22        5       14.0\n",
       "189      85       23.0\n",
       "129      75       75.0\n",
       "4        40       73.0\n",
       "83       44       53.0\n",
       "106      50       48.0"
      ]
     },
     "execution_count": 30,
     "metadata": {},
     "output_type": "execute_result"
    }
   ],
   "source": [
    "df=pd.DataFrame({'Actual':y_test, 'Predicted':y_pred})\n",
    "df"
   ]
  },
  {
   "cell_type": "code",
   "execution_count": 31,
   "id": "4878b877",
   "metadata": {},
   "outputs": [
    {
     "name": "stdout",
     "output_type": "stream",
     "text": [
      "Mean Absolute Error: 16.625\n",
      "Mean Squared Error: 597.575\n",
      "Root Mean Squared Error: 24.445347205552228\n"
     ]
    }
   ],
   "source": [
    "from sklearn import metrics\n",
    "print('Mean Absolute Error:', metrics.mean_absolute_error(y_test, y_pred))\n",
    "print('Mean Squared Error:', metrics.mean_squared_error(y_test, y_pred))\n",
    "print('Root Mean Squared Error:', np.sqrt(metrics.mean_squared_error(y_test, y_pred)))"
   ]
  },
  {
   "cell_type": "markdown",
   "id": "9c328f5d",
   "metadata": {},
   "source": [
    "# Logestic Regression"
   ]
  },
  {
   "cell_type": "code",
   "execution_count": 32,
   "id": "64f2dffb",
   "metadata": {},
   "outputs": [],
   "source": [
    "x=data.drop(['Gender'], axis=1)\n",
    "y=data['Gender']"
   ]
  },
  {
   "cell_type": "code",
   "execution_count": 33,
   "id": "2c2446bb",
   "metadata": {},
   "outputs": [],
   "source": [
    "from sklearn.model_selection import train_test_split\n",
    "from sklearn.linear_model import LogisticRegression"
   ]
  },
  {
   "cell_type": "code",
   "execution_count": 34,
   "id": "a6fa7756",
   "metadata": {},
   "outputs": [],
   "source": [
    "x_train, x_test, y_train, y_test = train_test_split(x, y, test_size=0.2, random_state=0)"
   ]
  },
  {
   "cell_type": "code",
   "execution_count": 35,
   "id": "1c0df8cd",
   "metadata": {},
   "outputs": [],
   "source": [
    "lr=LogisticRegression()"
   ]
  },
  {
   "cell_type": "code",
   "execution_count": 36,
   "id": "7c757d41",
   "metadata": {},
   "outputs": [
    {
     "data": {
      "text/plain": [
       "LogisticRegression()"
      ]
     },
     "execution_count": 36,
     "metadata": {},
     "output_type": "execute_result"
    }
   ],
   "source": [
    "lr.fit(x_train,y_train)"
   ]
  },
  {
   "cell_type": "code",
   "execution_count": 37,
   "id": "3fc71f2a",
   "metadata": {},
   "outputs": [
    {
     "data": {
      "text/plain": [
       "0.60625"
      ]
     },
     "execution_count": 37,
     "metadata": {},
     "output_type": "execute_result"
    }
   ],
   "source": [
    "lr.score(x_train,y_train)"
   ]
  },
  {
   "cell_type": "code",
   "execution_count": 38,
   "id": "1102c666",
   "metadata": {},
   "outputs": [],
   "source": [
    "prediction = lr.predict(x_test) "
   ]
  },
  {
   "cell_type": "code",
   "execution_count": 39,
   "id": "a7df2036",
   "metadata": {},
   "outputs": [
    {
     "name": "stdout",
     "output_type": "stream",
     "text": [
      "[0]\n"
     ]
    }
   ],
   "source": [
    "pre=lr.predict(np.array(['70','10','20',7]).reshape(1,-1))\n",
    "print(pre)"
   ]
  },
  {
   "cell_type": "code",
   "execution_count": 40,
   "id": "5c623089",
   "metadata": {},
   "outputs": [
    {
     "name": "stdout",
     "output_type": "stream",
     "text": [
      "Mean Absolute Error: 49.325\n",
      "Mean Squared Error: 2989.275\n",
      "Root Mean Squared Error: 54.67426268364302\n"
     ]
    }
   ],
   "source": [
    "from sklearn import metrics\n",
    "print('Mean Absolute Error:', metrics.mean_absolute_error(y_test, y_pred))\n",
    "print('Mean Squared Error:', metrics.mean_squared_error(y_test, y_pred))\n",
    "print('Root Mean Squared Error:', np.sqrt(metrics.mean_squared_error(y_test, y_pred)))"
   ]
  },
  {
   "cell_type": "markdown",
   "id": "7be2fcf0",
   "metadata": {},
   "source": [
    "# Naive Bayes Model"
   ]
  },
  {
   "cell_type": "code",
   "execution_count": 41,
   "id": "f70f5482",
   "metadata": {},
   "outputs": [],
   "source": [
    "x=data.drop(['Gender'], axis=1)\n",
    "y=data['Gender']"
   ]
  },
  {
   "cell_type": "code",
   "execution_count": 42,
   "id": "6d62c85f",
   "metadata": {},
   "outputs": [],
   "source": [
    "from sklearn.model_selection import train_test_split\n",
    "X_train, X_test, y_train, y_test = train_test_split(X, y, test_size = 0.20, random_state = 0)"
   ]
  },
  {
   "cell_type": "code",
   "execution_count": 43,
   "id": "cde5b998",
   "metadata": {},
   "outputs": [],
   "source": [
    "from sklearn.preprocessing import StandardScaler\n",
    "sc = StandardScaler()\n",
    "X_train = sc.fit_transform(X_train)\n",
    "X_test = sc.transform(X_test)"
   ]
  },
  {
   "cell_type": "code",
   "execution_count": 44,
   "id": "89db5c40",
   "metadata": {},
   "outputs": [
    {
     "data": {
      "text/plain": [
       "BernoulliNB()"
      ]
     },
     "execution_count": 44,
     "metadata": {},
     "output_type": "execute_result"
    }
   ],
   "source": [
    "from sklearn.naive_bayes import BernoulliNB\n",
    "classifier = BernoulliNB()\n",
    "classifier.fit(X_train, y_train)"
   ]
  },
  {
   "cell_type": "code",
   "execution_count": 45,
   "id": "6837df22",
   "metadata": {},
   "outputs": [],
   "source": [
    "y_pred  =  classifier.predict(X_test)"
   ]
  },
  {
   "cell_type": "code",
   "execution_count": 46,
   "id": "fbd2f12c",
   "metadata": {},
   "outputs": [
    {
     "name": "stdout",
     "output_type": "stream",
     "text": [
      "[0]\n"
     ]
    }
   ],
   "source": [
    "pre=lr.predict(np.array(['70','10','20','7']).reshape(1,-1))\n",
    "print(pre)"
   ]
  },
  {
   "cell_type": "code",
   "execution_count": 47,
   "id": "487aa522",
   "metadata": {},
   "outputs": [
    {
     "name": "stdout",
     "output_type": "stream",
     "text": [
      "Accuracy: 1.0\n"
     ]
    }
   ],
   "source": [
    "print('Accuracy:',metrics.accuracy_score(y_test,y_pred))"
   ]
  },
  {
   "cell_type": "code",
   "execution_count": 48,
   "id": "101b823b",
   "metadata": {},
   "outputs": [
    {
     "name": "stdout",
     "output_type": "stream",
     "text": [
      "Mean Absolute Error: 0.0\n",
      "Mean Squared Error: 0.0\n",
      "Root Mean Squared Error: 0.0\n"
     ]
    }
   ],
   "source": [
    "from sklearn import metrics\n",
    "print('Mean Absolute Error:', metrics.mean_absolute_error(y_test, y_pred))\n",
    "print('Mean Squared Error:', metrics.mean_squared_error(y_test, y_pred))\n",
    "print('Root Mean Squared Error:', np.sqrt(metrics.mean_squared_error(y_test, y_pred)))"
   ]
  },
  {
   "cell_type": "markdown",
   "id": "2223155c",
   "metadata": {},
   "source": [
    "# Neural Network Model"
   ]
  },
  {
   "cell_type": "code",
   "execution_count": 49,
   "id": "ee954e07",
   "metadata": {},
   "outputs": [],
   "source": [
    "import tensorflow as tf"
   ]
  },
  {
   "cell_type": "code",
   "execution_count": 50,
   "id": "f68a6873",
   "metadata": {},
   "outputs": [],
   "source": [
    "from sklearn.model_selection import train_test_split"
   ]
  },
  {
   "cell_type": "code",
   "execution_count": 51,
   "id": "3ca51fd9",
   "metadata": {},
   "outputs": [],
   "source": [
    "X=data.drop(['Spending Score (1-100)','Annual Income (k$)'], axis=1)\n",
    "y = data['Spending Score (1-100)']"
   ]
  },
  {
   "cell_type": "code",
   "execution_count": 52,
   "id": "92c298a6",
   "metadata": {},
   "outputs": [],
   "source": [
    "x_train, x_test, y_train, y_test = train_test_split(x, y, test_size = 0.2, random_state = 66)"
   ]
  },
  {
   "cell_type": "code",
   "execution_count": 53,
   "id": "faba4b4e",
   "metadata": {},
   "outputs": [],
   "source": [
    "from sklearn.preprocessing import StandardScaler\n",
    "scaler = StandardScaler().fit(x_train)\n",
    "x_scaled_train = scaler.transform(x_train)\n",
    "x_scaled_test= scaler.transform(x_test)"
   ]
  },
  {
   "cell_type": "code",
   "execution_count": 54,
   "id": "45e4b1d3",
   "metadata": {},
   "outputs": [],
   "source": [
    "from tensorflow.keras import models\n",
    "from tensorflow.keras import layers\n",
    "\n",
    "model=models.Sequential()\n",
    "model.add(layers.Dense(64, activation='relu',input_shape=(x_train.shape[1],)))\n",
    "model.add(layers.Dense(64, activation='relu'))\n",
    "model.add(layers.Dense(64, activation='relu'))\n",
    "model.add(layers.Dense(1,  activation='linear'))\n",
    "model.compile(loss='mean_squared_error',optimizer='adam', metrics=['mean_absolute_error','mean_squared_error'])\n"
   ]
  },
  {
   "cell_type": "code",
   "execution_count": 55,
   "id": "52a2644d",
   "metadata": {},
   "outputs": [
    {
     "name": "stdout",
     "output_type": "stream",
     "text": [
      "Epoch 1/100\n",
      "16/16 [==============================] - 1s 10ms/step - loss: 3284.2539 - mean_absolute_error: 51.3473 - mean_squared_error: 3284.2539 - val_loss: 2620.3081 - val_mean_absolute_error: 43.6308 - val_mean_squared_error: 2620.3081\n",
      "Epoch 2/100\n",
      "16/16 [==============================] - 0s 2ms/step - loss: 3162.4070 - mean_absolute_error: 49.9958 - mean_squared_error: 3162.4070 - val_loss: 2447.1685 - val_mean_absolute_error: 41.7375 - val_mean_squared_error: 2447.1685\n",
      "Epoch 3/100\n",
      "16/16 [==============================] - 0s 2ms/step - loss: 2859.3472 - mean_absolute_error: 46.8155 - mean_squared_error: 2859.3472 - val_loss: 2034.6731 - val_mean_absolute_error: 37.7952 - val_mean_squared_error: 2034.6731\n",
      "Epoch 4/100\n",
      "16/16 [==============================] - 0s 2ms/step - loss: 2204.3669 - mean_absolute_error: 40.1605 - mean_squared_error: 2204.3669 - val_loss: 1322.5103 - val_mean_absolute_error: 30.5229 - val_mean_squared_error: 1322.5103\n",
      "Epoch 5/100\n",
      "16/16 [==============================] - 0s 2ms/step - loss: 1211.0591 - mean_absolute_error: 29.9902 - mean_squared_error: 1211.0591 - val_loss: 693.4957 - val_mean_absolute_error: 21.6945 - val_mean_squared_error: 693.4957\n",
      "Epoch 6/100\n",
      "16/16 [==============================] - 0s 2ms/step - loss: 517.0628 - mean_absolute_error: 18.2963 - mean_squared_error: 517.0628 - val_loss: 394.6407 - val_mean_absolute_error: 15.0402 - val_mean_squared_error: 394.6407\n",
      "Epoch 7/100\n",
      "16/16 [==============================] - 0s 2ms/step - loss: 260.3350 - mean_absolute_error: 12.1931 - mean_squared_error: 260.3350 - val_loss: 203.8871 - val_mean_absolute_error: 11.2132 - val_mean_squared_error: 203.8871\n",
      "Epoch 8/100\n",
      "16/16 [==============================] - 0s 2ms/step - loss: 175.9305 - mean_absolute_error: 10.1926 - mean_squared_error: 175.9305 - val_loss: 141.5428 - val_mean_absolute_error: 9.3043 - val_mean_squared_error: 141.5428\n",
      "Epoch 9/100\n",
      "16/16 [==============================] - 0s 2ms/step - loss: 136.7481 - mean_absolute_error: 8.8854 - mean_squared_error: 136.7481 - val_loss: 113.7749 - val_mean_absolute_error: 8.2891 - val_mean_squared_error: 113.7749\n",
      "Epoch 10/100\n",
      "16/16 [==============================] - 0s 2ms/step - loss: 115.4342 - mean_absolute_error: 8.1403 - mean_squared_error: 115.4342 - val_loss: 97.0838 - val_mean_absolute_error: 7.7687 - val_mean_squared_error: 97.0838\n",
      "Epoch 11/100\n",
      "16/16 [==============================] - 0s 2ms/step - loss: 101.2341 - mean_absolute_error: 7.6563 - mean_squared_error: 101.2341 - val_loss: 87.9249 - val_mean_absolute_error: 7.4548 - val_mean_squared_error: 87.9249\n",
      "Epoch 12/100\n",
      "16/16 [==============================] - 0s 2ms/step - loss: 90.7456 - mean_absolute_error: 7.3267 - mean_squared_error: 90.7456 - val_loss: 79.6975 - val_mean_absolute_error: 7.1577 - val_mean_squared_error: 79.6975\n",
      "Epoch 13/100\n",
      "16/16 [==============================] - 0s 2ms/step - loss: 83.5573 - mean_absolute_error: 7.0109 - mean_squared_error: 83.5573 - val_loss: 72.2268 - val_mean_absolute_error: 6.8447 - val_mean_squared_error: 72.2268\n",
      "Epoch 14/100\n",
      "16/16 [==============================] - 0s 2ms/step - loss: 75.2980 - mean_absolute_error: 6.7674 - mean_squared_error: 75.2980 - val_loss: 69.2964 - val_mean_absolute_error: 6.7219 - val_mean_squared_error: 69.2964\n",
      "Epoch 15/100\n",
      "16/16 [==============================] - 0s 2ms/step - loss: 69.7474 - mean_absolute_error: 6.4547 - mean_squared_error: 69.7474 - val_loss: 61.0453 - val_mean_absolute_error: 6.2631 - val_mean_squared_error: 61.0453\n",
      "Epoch 16/100\n",
      "16/16 [==============================] - 0s 2ms/step - loss: 63.7167 - mean_absolute_error: 6.1370 - mean_squared_error: 63.7167 - val_loss: 58.2378 - val_mean_absolute_error: 6.0893 - val_mean_squared_error: 58.2378\n",
      "Epoch 17/100\n",
      "16/16 [==============================] - 0s 2ms/step - loss: 58.5690 - mean_absolute_error: 5.8646 - mean_squared_error: 58.5690 - val_loss: 55.1004 - val_mean_absolute_error: 5.8749 - val_mean_squared_error: 55.1004\n",
      "Epoch 18/100\n",
      "16/16 [==============================] - 0s 2ms/step - loss: 54.2782 - mean_absolute_error: 5.5795 - mean_squared_error: 54.2782 - val_loss: 49.3020 - val_mean_absolute_error: 5.5352 - val_mean_squared_error: 49.3020\n",
      "Epoch 19/100\n",
      "16/16 [==============================] - 0s 2ms/step - loss: 50.0695 - mean_absolute_error: 5.3464 - mean_squared_error: 50.0695 - val_loss: 48.0307 - val_mean_absolute_error: 5.3988 - val_mean_squared_error: 48.0307\n",
      "Epoch 20/100\n",
      "16/16 [==============================] - 0s 2ms/step - loss: 45.5675 - mean_absolute_error: 5.0509 - mean_squared_error: 45.5675 - val_loss: 42.8758 - val_mean_absolute_error: 5.0677 - val_mean_squared_error: 42.8758\n",
      "Epoch 21/100\n",
      "16/16 [==============================] - 0s 2ms/step - loss: 41.9524 - mean_absolute_error: 4.8051 - mean_squared_error: 41.9524 - val_loss: 39.9386 - val_mean_absolute_error: 4.8387 - val_mean_squared_error: 39.9386\n",
      "Epoch 22/100\n",
      "16/16 [==============================] - 0s 2ms/step - loss: 38.2554 - mean_absolute_error: 4.5808 - mean_squared_error: 38.2554 - val_loss: 35.9690 - val_mean_absolute_error: 4.5336 - val_mean_squared_error: 35.9690\n",
      "Epoch 23/100\n",
      "16/16 [==============================] - 0s 2ms/step - loss: 35.0985 - mean_absolute_error: 4.3339 - mean_squared_error: 35.0985 - val_loss: 33.2785 - val_mean_absolute_error: 4.3453 - val_mean_squared_error: 33.2785\n",
      "Epoch 24/100\n",
      "16/16 [==============================] - 0s 2ms/step - loss: 31.7100 - mean_absolute_error: 4.1289 - mean_squared_error: 31.7100 - val_loss: 29.7803 - val_mean_absolute_error: 4.0664 - val_mean_squared_error: 29.7803\n",
      "Epoch 25/100\n",
      "16/16 [==============================] - 0s 2ms/step - loss: 28.9326 - mean_absolute_error: 3.9405 - mean_squared_error: 28.9326 - val_loss: 26.8556 - val_mean_absolute_error: 3.8168 - val_mean_squared_error: 26.8556\n",
      "Epoch 26/100\n",
      "16/16 [==============================] - 0s 2ms/step - loss: 25.5115 - mean_absolute_error: 3.5979 - mean_squared_error: 25.5115 - val_loss: 24.2175 - val_mean_absolute_error: 3.5824 - val_mean_squared_error: 24.2175\n",
      "Epoch 27/100\n",
      "16/16 [==============================] - 0s 2ms/step - loss: 23.0033 - mean_absolute_error: 3.4685 - mean_squared_error: 23.0033 - val_loss: 21.2745 - val_mean_absolute_error: 3.3125 - val_mean_squared_error: 21.2745\n",
      "Epoch 28/100\n",
      "16/16 [==============================] - 0s 2ms/step - loss: 20.2808 - mean_absolute_error: 3.2425 - mean_squared_error: 20.2808 - val_loss: 19.7181 - val_mean_absolute_error: 3.2281 - val_mean_squared_error: 19.7181\n",
      "Epoch 29/100\n",
      "16/16 [==============================] - 0s 2ms/step - loss: 17.8348 - mean_absolute_error: 2.9933 - mean_squared_error: 17.8348 - val_loss: 16.7941 - val_mean_absolute_error: 2.9346 - val_mean_squared_error: 16.7941\n",
      "Epoch 30/100\n",
      "16/16 [==============================] - 0s 2ms/step - loss: 15.5576 - mean_absolute_error: 2.8058 - mean_squared_error: 15.5576 - val_loss: 15.0775 - val_mean_absolute_error: 2.7703 - val_mean_squared_error: 15.0775\n",
      "Epoch 31/100\n",
      "16/16 [==============================] - 0s 2ms/step - loss: 13.5198 - mean_absolute_error: 2.6008 - mean_squared_error: 13.5198 - val_loss: 12.9735 - val_mean_absolute_error: 2.5432 - val_mean_squared_error: 12.9735\n",
      "Epoch 32/100\n",
      "16/16 [==============================] - 0s 2ms/step - loss: 11.7775 - mean_absolute_error: 2.4208 - mean_squared_error: 11.7775 - val_loss: 11.2522 - val_mean_absolute_error: 2.3505 - val_mean_squared_error: 11.2522\n",
      "Epoch 33/100\n",
      "16/16 [==============================] - 0s 2ms/step - loss: 10.1065 - mean_absolute_error: 2.2513 - mean_squared_error: 10.1065 - val_loss: 10.1881 - val_mean_absolute_error: 2.3381 - val_mean_squared_error: 10.1881\n",
      "Epoch 34/100\n",
      "16/16 [==============================] - 0s 2ms/step - loss: 8.8407 - mean_absolute_error: 2.0549 - mean_squared_error: 8.8407 - val_loss: 8.2906 - val_mean_absolute_error: 2.0359 - val_mean_squared_error: 8.2906\n",
      "Epoch 35/100\n",
      "16/16 [==============================] - 0s 2ms/step - loss: 7.4824 - mean_absolute_error: 1.9270 - mean_squared_error: 7.4824 - val_loss: 6.7598 - val_mean_absolute_error: 1.7844 - val_mean_squared_error: 6.7598\n",
      "Epoch 36/100\n",
      "16/16 [==============================] - 0s 2ms/step - loss: 6.1967 - mean_absolute_error: 1.7159 - mean_squared_error: 6.1967 - val_loss: 5.9258 - val_mean_absolute_error: 1.7176 - val_mean_squared_error: 5.9258\n",
      "Epoch 37/100\n",
      "16/16 [==============================] - 0s 2ms/step - loss: 5.2969 - mean_absolute_error: 1.5635 - mean_squared_error: 5.2969 - val_loss: 4.8840 - val_mean_absolute_error: 1.5776 - val_mean_squared_error: 4.8840\n",
      "Epoch 38/100\n",
      "16/16 [==============================] - 0s 2ms/step - loss: 4.5703 - mean_absolute_error: 1.5577 - mean_squared_error: 4.5703 - val_loss: 4.3543 - val_mean_absolute_error: 1.4987 - val_mean_squared_error: 4.3543\n",
      "Epoch 39/100\n",
      "16/16 [==============================] - 0s 2ms/step - loss: 3.9301 - mean_absolute_error: 1.3852 - mean_squared_error: 3.9301 - val_loss: 3.4537 - val_mean_absolute_error: 1.2845 - val_mean_squared_error: 3.4537\n",
      "Epoch 40/100\n",
      "16/16 [==============================] - 0s 2ms/step - loss: 3.1867 - mean_absolute_error: 1.2328 - mean_squared_error: 3.1867 - val_loss: 3.0658 - val_mean_absolute_error: 1.3065 - val_mean_squared_error: 3.0658\n",
      "Epoch 41/100\n",
      "16/16 [==============================] - 0s 2ms/step - loss: 2.7112 - mean_absolute_error: 1.0950 - mean_squared_error: 2.7112 - val_loss: 2.4134 - val_mean_absolute_error: 1.1262 - val_mean_squared_error: 2.4134\n",
      "Epoch 42/100\n",
      "16/16 [==============================] - 0s 2ms/step - loss: 2.3645 - mean_absolute_error: 1.0164 - mean_squared_error: 2.3645 - val_loss: 2.3019 - val_mean_absolute_error: 1.0793 - val_mean_squared_error: 2.3019\n",
      "Epoch 43/100\n",
      "16/16 [==============================] - 0s 2ms/step - loss: 1.9600 - mean_absolute_error: 0.9519 - mean_squared_error: 1.9600 - val_loss: 1.7816 - val_mean_absolute_error: 0.9808 - val_mean_squared_error: 1.7816\n",
      "Epoch 44/100\n",
      "16/16 [==============================] - 0s 2ms/step - loss: 1.7223 - mean_absolute_error: 0.8879 - mean_squared_error: 1.7223 - val_loss: 1.4474 - val_mean_absolute_error: 0.8729 - val_mean_squared_error: 1.4474\n",
      "Epoch 45/100\n",
      "16/16 [==============================] - 0s 2ms/step - loss: 1.4757 - mean_absolute_error: 0.8102 - mean_squared_error: 1.4757 - val_loss: 1.4680 - val_mean_absolute_error: 0.9427 - val_mean_squared_error: 1.4680\n",
      "Epoch 46/100\n",
      "16/16 [==============================] - 0s 2ms/step - loss: 1.3358 - mean_absolute_error: 0.8144 - mean_squared_error: 1.3358 - val_loss: 1.1436 - val_mean_absolute_error: 0.7936 - val_mean_squared_error: 1.1436\n",
      "Epoch 47/100\n",
      "16/16 [==============================] - 0s 2ms/step - loss: 1.1978 - mean_absolute_error: 0.7456 - mean_squared_error: 1.1978 - val_loss: 1.0607 - val_mean_absolute_error: 0.7466 - val_mean_squared_error: 1.0607\n",
      "Epoch 48/100\n",
      "16/16 [==============================] - 0s 2ms/step - loss: 1.0202 - mean_absolute_error: 0.7052 - mean_squared_error: 1.0202 - val_loss: 0.8483 - val_mean_absolute_error: 0.6737 - val_mean_squared_error: 0.8483\n",
      "Epoch 49/100\n",
      "16/16 [==============================] - 0s 2ms/step - loss: 0.9482 - mean_absolute_error: 0.7004 - mean_squared_error: 0.9482 - val_loss: 0.7209 - val_mean_absolute_error: 0.5828 - val_mean_squared_error: 0.7209\n",
      "Epoch 50/100\n",
      "16/16 [==============================] - 0s 2ms/step - loss: 0.8285 - mean_absolute_error: 0.6278 - mean_squared_error: 0.8285 - val_loss: 0.7352 - val_mean_absolute_error: 0.6118 - val_mean_squared_error: 0.7352\n",
      "Epoch 51/100\n",
      "16/16 [==============================] - 0s 2ms/step - loss: 0.7725 - mean_absolute_error: 0.6277 - mean_squared_error: 0.7725 - val_loss: 0.6191 - val_mean_absolute_error: 0.5434 - val_mean_squared_error: 0.6191\n",
      "Epoch 52/100\n",
      "16/16 [==============================] - 0s 2ms/step - loss: 0.7101 - mean_absolute_error: 0.6086 - mean_squared_error: 0.7101 - val_loss: 0.6118 - val_mean_absolute_error: 0.5490 - val_mean_squared_error: 0.6118\n",
      "Epoch 53/100\n",
      "16/16 [==============================] - 0s 2ms/step - loss: 0.6820 - mean_absolute_error: 0.5964 - mean_squared_error: 0.6820 - val_loss: 0.6466 - val_mean_absolute_error: 0.5866 - val_mean_squared_error: 0.6466\n",
      "Epoch 54/100\n",
      "16/16 [==============================] - 0s 2ms/step - loss: 0.6305 - mean_absolute_error: 0.5779 - mean_squared_error: 0.6305 - val_loss: 0.5505 - val_mean_absolute_error: 0.5382 - val_mean_squared_error: 0.5505\n",
      "Epoch 55/100\n",
      "16/16 [==============================] - 0s 2ms/step - loss: 0.5852 - mean_absolute_error: 0.5695 - mean_squared_error: 0.5852 - val_loss: 0.6082 - val_mean_absolute_error: 0.5713 - val_mean_squared_error: 0.6082\n",
      "Epoch 56/100\n",
      "16/16 [==============================] - 0s 2ms/step - loss: 0.5273 - mean_absolute_error: 0.5443 - mean_squared_error: 0.5273 - val_loss: 0.4720 - val_mean_absolute_error: 0.4830 - val_mean_squared_error: 0.4720\n",
      "Epoch 57/100\n",
      "16/16 [==============================] - 0s 2ms/step - loss: 0.5410 - mean_absolute_error: 0.5510 - mean_squared_error: 0.5410 - val_loss: 0.4779 - val_mean_absolute_error: 0.4816 - val_mean_squared_error: 0.4779\n",
      "Epoch 58/100\n",
      "16/16 [==============================] - 0s 2ms/step - loss: 0.5220 - mean_absolute_error: 0.5487 - mean_squared_error: 0.5220 - val_loss: 0.4697 - val_mean_absolute_error: 0.4941 - val_mean_squared_error: 0.4697\n",
      "Epoch 59/100\n",
      "16/16 [==============================] - 0s 2ms/step - loss: 0.5070 - mean_absolute_error: 0.5388 - mean_squared_error: 0.5070 - val_loss: 0.5163 - val_mean_absolute_error: 0.5238 - val_mean_squared_error: 0.5163\n",
      "Epoch 60/100\n",
      "16/16 [==============================] - 0s 2ms/step - loss: 0.4835 - mean_absolute_error: 0.5286 - mean_squared_error: 0.4835 - val_loss: 0.4587 - val_mean_absolute_error: 0.4933 - val_mean_squared_error: 0.4587\n",
      "Epoch 61/100\n",
      "16/16 [==============================] - 0s 2ms/step - loss: 0.4424 - mean_absolute_error: 0.5184 - mean_squared_error: 0.4424 - val_loss: 0.5587 - val_mean_absolute_error: 0.5867 - val_mean_squared_error: 0.5587\n",
      "Epoch 62/100\n",
      "16/16 [==============================] - 0s 2ms/step - loss: 0.4308 - mean_absolute_error: 0.5095 - mean_squared_error: 0.4308 - val_loss: 0.4087 - val_mean_absolute_error: 0.4487 - val_mean_squared_error: 0.4087\n",
      "Epoch 63/100\n",
      "16/16 [==============================] - 0s 2ms/step - loss: 0.4048 - mean_absolute_error: 0.4879 - mean_squared_error: 0.4048 - val_loss: 0.3761 - val_mean_absolute_error: 0.4267 - val_mean_squared_error: 0.3761\n",
      "Epoch 64/100\n",
      "16/16 [==============================] - 0s 2ms/step - loss: 0.3780 - mean_absolute_error: 0.4740 - mean_squared_error: 0.3780 - val_loss: 0.4462 - val_mean_absolute_error: 0.4781 - val_mean_squared_error: 0.4462\n",
      "Epoch 65/100\n",
      "16/16 [==============================] - 0s 2ms/step - loss: 0.4019 - mean_absolute_error: 0.4823 - mean_squared_error: 0.4019 - val_loss: 0.5413 - val_mean_absolute_error: 0.5835 - val_mean_squared_error: 0.5413\n",
      "Epoch 66/100\n",
      "16/16 [==============================] - 0s 2ms/step - loss: 0.3612 - mean_absolute_error: 0.4667 - mean_squared_error: 0.3612 - val_loss: 0.3677 - val_mean_absolute_error: 0.4335 - val_mean_squared_error: 0.3677\n",
      "Epoch 67/100\n",
      "16/16 [==============================] - 0s 2ms/step - loss: 0.3332 - mean_absolute_error: 0.4438 - mean_squared_error: 0.3332 - val_loss: 0.3621 - val_mean_absolute_error: 0.4248 - val_mean_squared_error: 0.3621\n",
      "Epoch 68/100\n",
      "16/16 [==============================] - 0s 2ms/step - loss: 0.4101 - mean_absolute_error: 0.5043 - mean_squared_error: 0.4101 - val_loss: 0.4123 - val_mean_absolute_error: 0.4588 - val_mean_squared_error: 0.4123\n",
      "Epoch 69/100\n",
      "16/16 [==============================] - 0s 2ms/step - loss: 0.3470 - mean_absolute_error: 0.4514 - mean_squared_error: 0.3470 - val_loss: 0.2990 - val_mean_absolute_error: 0.3790 - val_mean_squared_error: 0.2990\n",
      "Epoch 70/100\n",
      "16/16 [==============================] - 0s 2ms/step - loss: 0.3109 - mean_absolute_error: 0.4385 - mean_squared_error: 0.3109 - val_loss: 0.3454 - val_mean_absolute_error: 0.4206 - val_mean_squared_error: 0.3454\n",
      "Epoch 71/100\n",
      "16/16 [==============================] - 0s 2ms/step - loss: 0.3031 - mean_absolute_error: 0.4344 - mean_squared_error: 0.3031 - val_loss: 0.3122 - val_mean_absolute_error: 0.3984 - val_mean_squared_error: 0.3122\n",
      "Epoch 72/100\n",
      "16/16 [==============================] - 0s 2ms/step - loss: 0.2870 - mean_absolute_error: 0.4213 - mean_squared_error: 0.2870 - val_loss: 0.3255 - val_mean_absolute_error: 0.3974 - val_mean_squared_error: 0.3255\n",
      "Epoch 73/100\n",
      "16/16 [==============================] - 0s 2ms/step - loss: 0.2996 - mean_absolute_error: 0.4313 - mean_squared_error: 0.2996 - val_loss: 0.3542 - val_mean_absolute_error: 0.4448 - val_mean_squared_error: 0.3542\n",
      "Epoch 74/100\n",
      "16/16 [==============================] - 0s 2ms/step - loss: 0.3007 - mean_absolute_error: 0.4236 - mean_squared_error: 0.3007 - val_loss: 0.3017 - val_mean_absolute_error: 0.3877 - val_mean_squared_error: 0.3017\n",
      "Epoch 75/100\n",
      "16/16 [==============================] - 0s 2ms/step - loss: 0.2907 - mean_absolute_error: 0.4264 - mean_squared_error: 0.2907 - val_loss: 0.3298 - val_mean_absolute_error: 0.3976 - val_mean_squared_error: 0.3298\n",
      "Epoch 76/100\n",
      "16/16 [==============================] - 0s 2ms/step - loss: 0.2524 - mean_absolute_error: 0.3996 - mean_squared_error: 0.2524 - val_loss: 0.3140 - val_mean_absolute_error: 0.4111 - val_mean_squared_error: 0.3140\n",
      "Epoch 77/100\n",
      "16/16 [==============================] - 0s 2ms/step - loss: 0.2359 - mean_absolute_error: 0.3852 - mean_squared_error: 0.2359 - val_loss: 0.2963 - val_mean_absolute_error: 0.3914 - val_mean_squared_error: 0.2963\n",
      "Epoch 78/100\n",
      "16/16 [==============================] - 0s 2ms/step - loss: 0.2400 - mean_absolute_error: 0.3857 - mean_squared_error: 0.2400 - val_loss: 0.3012 - val_mean_absolute_error: 0.3997 - val_mean_squared_error: 0.3012\n",
      "Epoch 79/100\n",
      "16/16 [==============================] - 0s 2ms/step - loss: 0.2255 - mean_absolute_error: 0.3733 - mean_squared_error: 0.2255 - val_loss: 0.2893 - val_mean_absolute_error: 0.3965 - val_mean_squared_error: 0.2893\n",
      "Epoch 80/100\n",
      "16/16 [==============================] - 0s 2ms/step - loss: 0.2381 - mean_absolute_error: 0.3922 - mean_squared_error: 0.2381 - val_loss: 0.3649 - val_mean_absolute_error: 0.4589 - val_mean_squared_error: 0.3649\n",
      "Epoch 81/100\n",
      "16/16 [==============================] - 0s 2ms/step - loss: 0.2364 - mean_absolute_error: 0.3862 - mean_squared_error: 0.2364 - val_loss: 0.3010 - val_mean_absolute_error: 0.4081 - val_mean_squared_error: 0.3010\n",
      "Epoch 82/100\n",
      "16/16 [==============================] - 0s 2ms/step - loss: 0.2000 - mean_absolute_error: 0.3449 - mean_squared_error: 0.2000 - val_loss: 0.3561 - val_mean_absolute_error: 0.4494 - val_mean_squared_error: 0.3561\n",
      "Epoch 83/100\n",
      "16/16 [==============================] - 0s 2ms/step - loss: 0.2213 - mean_absolute_error: 0.3653 - mean_squared_error: 0.2213 - val_loss: 0.3426 - val_mean_absolute_error: 0.4370 - val_mean_squared_error: 0.3426\n",
      "Epoch 84/100\n",
      "16/16 [==============================] - 0s 2ms/step - loss: 0.2501 - mean_absolute_error: 0.4078 - mean_squared_error: 0.2501 - val_loss: 0.3731 - val_mean_absolute_error: 0.4720 - val_mean_squared_error: 0.3731\n",
      "Epoch 85/100\n",
      "16/16 [==============================] - 0s 2ms/step - loss: 0.2450 - mean_absolute_error: 0.3867 - mean_squared_error: 0.2450 - val_loss: 0.3979 - val_mean_absolute_error: 0.4903 - val_mean_squared_error: 0.3979\n",
      "Epoch 86/100\n",
      "16/16 [==============================] - 0s 2ms/step - loss: 0.2601 - mean_absolute_error: 0.4098 - mean_squared_error: 0.2601 - val_loss: 0.3155 - val_mean_absolute_error: 0.4174 - val_mean_squared_error: 0.3155\n",
      "Epoch 87/100\n",
      "16/16 [==============================] - 0s 2ms/step - loss: 0.2010 - mean_absolute_error: 0.3556 - mean_squared_error: 0.2010 - val_loss: 0.2887 - val_mean_absolute_error: 0.3819 - val_mean_squared_error: 0.2887\n",
      "Epoch 88/100\n",
      "16/16 [==============================] - 0s 2ms/step - loss: 0.1855 - mean_absolute_error: 0.3476 - mean_squared_error: 0.1855 - val_loss: 0.2595 - val_mean_absolute_error: 0.3636 - val_mean_squared_error: 0.2595\n",
      "Epoch 89/100\n",
      "16/16 [==============================] - 0s 2ms/step - loss: 0.1742 - mean_absolute_error: 0.3329 - mean_squared_error: 0.1742 - val_loss: 0.2612 - val_mean_absolute_error: 0.3603 - val_mean_squared_error: 0.2612\n",
      "Epoch 90/100\n",
      "16/16 [==============================] - 0s 2ms/step - loss: 0.1700 - mean_absolute_error: 0.3290 - mean_squared_error: 0.1700 - val_loss: 0.2993 - val_mean_absolute_error: 0.4050 - val_mean_squared_error: 0.2993\n",
      "Epoch 91/100\n",
      "16/16 [==============================] - 0s 2ms/step - loss: 0.1682 - mean_absolute_error: 0.3250 - mean_squared_error: 0.1682 - val_loss: 0.2618 - val_mean_absolute_error: 0.3697 - val_mean_squared_error: 0.2618\n",
      "Epoch 92/100\n",
      "16/16 [==============================] - 0s 2ms/step - loss: 0.1659 - mean_absolute_error: 0.3278 - mean_squared_error: 0.1659 - val_loss: 0.2463 - val_mean_absolute_error: 0.3466 - val_mean_squared_error: 0.2463\n",
      "Epoch 93/100\n",
      "16/16 [==============================] - 0s 2ms/step - loss: 0.1695 - mean_absolute_error: 0.3235 - mean_squared_error: 0.1695 - val_loss: 0.3040 - val_mean_absolute_error: 0.4029 - val_mean_squared_error: 0.3040\n",
      "Epoch 94/100\n",
      "16/16 [==============================] - 0s 2ms/step - loss: 0.1781 - mean_absolute_error: 0.3396 - mean_squared_error: 0.1781 - val_loss: 0.2793 - val_mean_absolute_error: 0.3952 - val_mean_squared_error: 0.2793\n",
      "Epoch 95/100\n",
      "16/16 [==============================] - 0s 2ms/step - loss: 0.1538 - mean_absolute_error: 0.3135 - mean_squared_error: 0.1538 - val_loss: 0.2569 - val_mean_absolute_error: 0.3556 - val_mean_squared_error: 0.2569\n",
      "Epoch 96/100\n",
      "16/16 [==============================] - 0s 2ms/step - loss: 0.1619 - mean_absolute_error: 0.3216 - mean_squared_error: 0.1619 - val_loss: 0.2432 - val_mean_absolute_error: 0.3310 - val_mean_squared_error: 0.2432\n",
      "Epoch 97/100\n",
      "16/16 [==============================] - 0s 2ms/step - loss: 0.1677 - mean_absolute_error: 0.3332 - mean_squared_error: 0.1677 - val_loss: 0.2801 - val_mean_absolute_error: 0.3947 - val_mean_squared_error: 0.2801\n",
      "Epoch 98/100\n",
      "16/16 [==============================] - 0s 2ms/step - loss: 0.1327 - mean_absolute_error: 0.2855 - mean_squared_error: 0.1327 - val_loss: 0.2453 - val_mean_absolute_error: 0.3568 - val_mean_squared_error: 0.2453\n",
      "Epoch 99/100\n",
      "16/16 [==============================] - 0s 2ms/step - loss: 0.1294 - mean_absolute_error: 0.2869 - mean_squared_error: 0.1294 - val_loss: 0.2364 - val_mean_absolute_error: 0.3555 - val_mean_squared_error: 0.2364\n",
      "Epoch 100/100\n",
      "16/16 [==============================] - 0s 2ms/step - loss: 0.1395 - mean_absolute_error: 0.2941 - mean_squared_error: 0.1395 - val_loss: 0.2441 - val_mean_absolute_error: 0.3602 - val_mean_squared_error: 0.2441\n"
     ]
    }
   ],
   "source": [
    "history=model.fit(x_scaled_train,y_train,epochs=100, batch_size=10, validation_data=(x_scaled_test,y_test))"
   ]
  },
  {
   "cell_type": "code",
   "execution_count": 56,
   "id": "ae99f856",
   "metadata": {},
   "outputs": [
    {
     "data": {
      "text/plain": [
       "<matplotlib.legend.Legend at 0x208f8593370>"
      ]
     },
     "execution_count": 56,
     "metadata": {},
     "output_type": "execute_result"
    },
    {
     "data": {
      "image/png": "[encoded data removed]",
      "text/plain": [
       "<Figure size 432x288 with 1 Axes>"
      ]
     },
     "metadata": {
      "needs_background": "light"
     },
     "output_type": "display_data"
    }
   ],
   "source": [
    "plt.plot(history.history['mean_squared_error'])\n",
    "plt.plot(history.history['val_mean_squared_error'])\n",
    "plt.title('Model Loss')\n",
    "plt.ylabel('Loss')\n",
    "plt.xlabel('epoch')\n",
    "plt.legend(['Train','Test'], loc='upper left')"
   ]
  },
  {
   "cell_type": "code",
   "execution_count": 57,
   "id": "1cc1b977",
   "metadata": {},
   "outputs": [
    {
     "name": "stdout",
     "output_type": "stream",
     "text": [
      "2/2 [==============================] - 0s 1000us/step\n",
      "2/2 [==============================] - 0s 2ms/step - loss: 0.2441 - mean_absolute_error: 0.3602 - mean_squared_error: 0.2441\n"
     ]
    },
    {
     "data": {
      "text/plain": [
       "[0.24412159621715546, 0.36023539304733276, 0.24412159621715546]"
      ]
     },
     "execution_count": 57,
     "metadata": {},
     "output_type": "execute_result"
    }
   ],
   "source": [
    "test_predictions=model.predict(x_scaled_test)\n",
    "model.evaluate(x_scaled_test,y_test)"
   ]
  },
  {
   "cell_type": "code",
   "execution_count": 58,
   "id": "85134de2",
   "metadata": {},
   "outputs": [
    {
     "name": "stdout",
     "output_type": "stream",
     "text": [
      "2.603240987229339e-28\n",
      "1.2523315717771765e-14\n",
      "1.6134562241441008e-14\n"
     ]
    }
   ],
   "source": [
    "from sklearn.linear_model import LinearRegression\n",
    "model_multi=LinearRegression().fit(x_scaled_train,y_train)\n",
    "from sklearn.metrics import mean_squared_error\n",
    "from sklearn.metrics import mean_absolute_error\n",
    "linear_test_prediction=model_multi.predict((x_scaled_test))\n",
    "#MSE\n",
    "print(mean_squared_error(linear_test_prediction, y_test))\n",
    "#MAE\n",
    "print(mean_absolute_error(linear_test_prediction, y_test))\n",
    "#RMSE\n",
    "print(np.sqrt(((linear_test_prediction-y_test)**2).mean()))\n",
    "\n"
   ]
  },
  {
   "cell_type": "code",
   "execution_count": 59,
   "id": "ee1d2fc7",
   "metadata": {},
   "outputs": [
    {
     "data": {
      "text/plain": [
       "[<matplotlib.lines.Line2D at 0x208f86923d0>]"
      ]
     },
     "execution_count": 59,
     "metadata": {},
     "output_type": "execute_result"
    },
    {
     "data": {
      "image/png": "[encoded data removed]",
      "text/plain": [
       "<Figure size 432x288 with 1 Axes>"
      ]
     },
     "metadata": {
      "needs_background": "light"
     },
     "output_type": "display_data"
    }
   ],
   "source": [
    "plt.scatter(y_test, test_predictions)\n",
    "plt.scatter(y_test,linear_test_prediction,c='r')\n",
    "plt.xlabel('True values [Spending Score (1-100)]')\n",
    "plt.ylabel('Predictions [Spending Score (1-100)]')\n",
    "plt.axis('equal')\n",
    "plt.axis('square')\n",
    "plt.xlim([0,plt.xlim()[1]])\n",
    "plt.xlim([0,plt.ylim()[1]])\n",
    "plt.plot([-100, 100], [-100, 100])\n"
   ]
  }
 ],
 "metadata": {
  "kernelspec": {
   "display_name": "Python 3 (ipykernel)",
   "language": "python",
   "name": "python3"
  },
  "language_info": {
   "codemirror_mode": {
    "name": "ipython",
    "version": 3
   },
   "file_extension": ".py",
   "mimetype": "text/x-python",
   "name": "python",
   "nbconvert_exporter": "python",
   "pygments_lexer": "ipython3",
   "version": "3.9.7"
  }
 },
 "nbformat": 4,
 "nbformat_minor": 5
}
